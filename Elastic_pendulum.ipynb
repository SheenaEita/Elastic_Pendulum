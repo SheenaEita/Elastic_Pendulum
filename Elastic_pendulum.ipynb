{
  "nbformat": 4,
  "nbformat_minor": 0,
  "metadata": {
    "colab": {
      "provenance": []
    },
    "kernelspec": {
      "name": "python3",
      "display_name": "Python 3"
    },
    "language_info": {
      "name": "python"
    }
  },
  "cells": [
    {
      "cell_type": "markdown",
      "source": [
        "# Import Some Package\n",
        "To facilitate the use of some matrix and symbolic operations, we need to import numpy and sympy."
      ],
      "metadata": {
        "id": "ONXOxo3US7vV"
      }
    },
    {
      "cell_type": "code",
      "execution_count": 217,
      "metadata": {
        "id": "LHwg65RGRm3Y"
      },
      "outputs": [],
      "source": [
        "import numpy as np\n",
        "import matplotlib.pyplot as plt\n",
        "from scipy.integrate import odeint as inte\n",
        "import sympy as sym\n",
        "\n",
        "from matplotlib import animation\n",
        "from matplotlib.animation import PillowWriter\n",
        "\n",
        "import math\n",
        "from math import e\n",
        "from math import pi"
      ]
    },
    {
      "cell_type": "markdown",
      "source": [
        "# Define Parameters"
      ],
      "metadata": {
        "id": "J8_PsQLPTRHk"
      }
    },
    {
      "cell_type": "code",
      "source": [
        "t, m, g, k, l = sym.symbols('t, m, g, k, l')\n",
        "r, theta = sym.symbols(r'r \\theta', cls=sym.Function)"
      ],
      "metadata": {
        "id": "MVriRByeTRcb"
      },
      "execution_count": 218,
      "outputs": []
    },
    {
      "cell_type": "markdown",
      "source": [
        "# System Coordinaates"
      ],
      "metadata": {
        "id": "5CGZ_wDiW_a_"
      }
    },
    {
      "cell_type": "code",
      "source": [
        "r = r(t)\n",
        "theta = theta(t)\n",
        "r_d = sym.diff(r, t)\n",
        "theta_d = sym.diff(theta, t)\n",
        "r_dd = sym.diff(r_d, t)\n",
        "theta_dd = sym.diff(theta_d, t)"
      ],
      "metadata": {
        "id": "c403P40AUhoW"
      },
      "execution_count": 219,
      "outputs": []
    },
    {
      "cell_type": "code",
      "source": [
        "theta_dd"
      ],
      "metadata": {
        "colab": {
          "base_uri": "https://localhost:8080/",
          "height": 54
        },
        "id": "L9NT-XT4Wxqz",
        "outputId": "72c35a6d-614d-411b-cbcc-0a80bbe5666a"
      },
      "execution_count": 220,
      "outputs": [
        {
          "output_type": "execute_result",
          "data": {
            "text/plain": [
              "Derivative(\\theta(t), (t, 2))"
            ],
            "text/latex": "$\\displaystyle \\frac{d^{2}}{d t^{2}} \\theta{\\left(t \\right)}$"
          },
          "metadata": {},
          "execution_count": 220
        }
      ]
    },
    {
      "cell_type": "markdown",
      "source": [
        "# Coordinates Transformation"
      ],
      "metadata": {
        "id": "bj_blOAAXNQb"
      }
    },
    {
      "cell_type": "code",
      "source": [
        "x = r * sym.cos(theta)\n",
        "y = r * sym.sin(theta)\n",
        "\n",
        "x_d = sym.diff(x, t)\n",
        "y_d = sym.diff(y, t)"
      ],
      "metadata": {
        "id": "SjjSQrXEXPul"
      },
      "execution_count": 221,
      "outputs": []
    },
    {
      "cell_type": "code",
      "source": [
        "y"
      ],
      "metadata": {
        "colab": {
          "base_uri": "https://localhost:8080/",
          "height": 39
        },
        "id": "DvsSt-kuY8_A",
        "outputId": "451e3645-5827-4f44-d3a2-dcb6c71732aa"
      },
      "execution_count": 222,
      "outputs": [
        {
          "output_type": "execute_result",
          "data": {
            "text/plain": [
              "r(t)*sin(\\theta(t))"
            ],
            "text/latex": "$\\displaystyle r{\\left(t \\right)} \\sin{\\left(\\theta{\\left(t \\right)} \\right)}$"
          },
          "metadata": {},
          "execution_count": 222
        }
      ]
    },
    {
      "cell_type": "markdown",
      "source": [
        "# Lagrangian"
      ],
      "metadata": {
        "id": "IrqHccVTXqpo"
      }
    },
    {
      "cell_type": "code",
      "source": [
        "T = 0.5*m*(x_d**2 + y_d**2);\n",
        "# T = 1/2 * m * (x_dot^2 + y_dot^2);\n",
        "\n",
        "V = m*g*y + 0.5*k*(r-l)**2;\n",
        "# V = mgz + 1/2 * k * (r-l)^2 ;\n",
        "\n",
        "L = T - V;"
      ],
      "metadata": {
        "id": "2OSx4FzBXqcv"
      },
      "execution_count": 223,
      "outputs": []
    },
    {
      "cell_type": "code",
      "source": [
        "L"
      ],
      "metadata": {
        "colab": {
          "base_uri": "https://localhost:8080/",
          "height": 68
        },
        "id": "rzrEu7zxYN1F",
        "outputId": "b23085fa-13ed-4297-e3de-0c0b17d1ee7a"
      },
      "execution_count": 224,
      "outputs": [
        {
          "output_type": "execute_result",
          "data": {
            "text/plain": [
              "-g*m*r(t)*sin(\\theta(t)) - 0.5*k*(-l + r(t))**2 + 0.5*m*((-r(t)*sin(\\theta(t))*Derivative(\\theta(t), t) + cos(\\theta(t))*Derivative(r(t), t))**2 + (r(t)*cos(\\theta(t))*Derivative(\\theta(t), t) + sin(\\theta(t))*Derivative(r(t), t))**2)"
            ],
            "text/latex": "$\\displaystyle - g m r{\\left(t \\right)} \\sin{\\left(\\theta{\\left(t \\right)} \\right)} - 0.5 k \\left(- l + r{\\left(t \\right)}\\right)^{2} + 0.5 m \\left(\\left(- r{\\left(t \\right)} \\sin{\\left(\\theta{\\left(t \\right)} \\right)} \\frac{d}{d t} \\theta{\\left(t \\right)} + \\cos{\\left(\\theta{\\left(t \\right)} \\right)} \\frac{d}{d t} r{\\left(t \\right)}\\right)^{2} + \\left(r{\\left(t \\right)} \\cos{\\left(\\theta{\\left(t \\right)} \\right)} \\frac{d}{d t} \\theta{\\left(t \\right)} + \\sin{\\left(\\theta{\\left(t \\right)} \\right)} \\frac{d}{d t} r{\\left(t \\right)}\\right)^{2}\\right)$"
          },
          "metadata": {},
          "execution_count": 224
        }
      ]
    },
    {
      "cell_type": "markdown",
      "source": [
        "# Lagrangian Equation"
      ],
      "metadata": {
        "id": "TNAFecYLgvMK"
      }
    },
    {
      "cell_type": "code",
      "source": [
        "LE1 = sym.diff(L, r) - sym.diff(sym.diff(L, r_d), t).simplify()\n",
        "LE2 = sym.diff(L, theta) - sym.diff(sym.diff(L, theta_d), t).simplify()"
      ],
      "metadata": {
        "id": "1o4J-PHBZemK"
      },
      "execution_count": 225,
      "outputs": []
    },
    {
      "cell_type": "code",
      "source": [
        "LE1"
      ],
      "metadata": {
        "colab": {
          "base_uri": "https://localhost:8080/",
          "height": 116
        },
        "id": "ygHvHVKPZqNm",
        "outputId": "cf5b9bcb-a9f7-41fd-96b0-d2aceeb73d6b"
      },
      "execution_count": 226,
      "outputs": [
        {
          "output_type": "execute_result",
          "data": {
            "text/plain": [
              "-g*m*sin(\\theta(t)) - 0.5*k*(-2*l + 2*r(t)) + 0.5*m*(-2*(-r(t)*sin(\\theta(t))*Derivative(\\theta(t), t) + cos(\\theta(t))*Derivative(r(t), t))*sin(\\theta(t))*Derivative(\\theta(t), t) + 2*(r(t)*cos(\\theta(t))*Derivative(\\theta(t), t) + sin(\\theta(t))*Derivative(r(t), t))*cos(\\theta(t))*Derivative(\\theta(t), t)) - 1.0*m*Derivative(r(t), (t, 2))"
            ],
            "text/latex": "$\\displaystyle - g m \\sin{\\left(\\theta{\\left(t \\right)} \\right)} - 0.5 k \\left(- 2 l + 2 r{\\left(t \\right)}\\right) + 0.5 m \\left(- 2 \\left(- r{\\left(t \\right)} \\sin{\\left(\\theta{\\left(t \\right)} \\right)} \\frac{d}{d t} \\theta{\\left(t \\right)} + \\cos{\\left(\\theta{\\left(t \\right)} \\right)} \\frac{d}{d t} r{\\left(t \\right)}\\right) \\sin{\\left(\\theta{\\left(t \\right)} \\right)} \\frac{d}{d t} \\theta{\\left(t \\right)} + 2 \\left(r{\\left(t \\right)} \\cos{\\left(\\theta{\\left(t \\right)} \\right)} \\frac{d}{d t} \\theta{\\left(t \\right)} + \\sin{\\left(\\theta{\\left(t \\right)} \\right)} \\frac{d}{d t} r{\\left(t \\right)}\\right) \\cos{\\left(\\theta{\\left(t \\right)} \\right)} \\frac{d}{d t} \\theta{\\left(t \\right)}\\right) - 1.0 m \\frac{d^{2}}{d t^{2}} r{\\left(t \\right)}$"
          },
          "metadata": {},
          "execution_count": 226
        }
      ]
    },
    {
      "cell_type": "markdown",
      "source": [
        "Find \\ddot{r} and \\ddot{𝜃}"
      ],
      "metadata": {
        "id": "3l5tfNpHquL_"
      }
    },
    {
      "cell_type": "code",
      "source": [
        "sols = sym.solve([LE1, LE2], (r_dd, theta_dd), simplify=False, rational=False)"
      ],
      "metadata": {
        "id": "nnmfreJBaI5E"
      },
      "execution_count": 227,
      "outputs": []
    },
    {
      "cell_type": "code",
      "source": [
        "sols"
      ],
      "metadata": {
        "colab": {
          "base_uri": "https://localhost:8080/"
        },
        "id": "jW_f8SCdq_-s",
        "outputId": "1277de1d-35fe-45cd-ff07-fd682b7511d5"
      },
      "execution_count": 228,
      "outputs": [
        {
          "output_type": "execute_result",
          "data": {
            "text/plain": [
              "{Derivative(r(t), (t, 2)): -1.0*g*sin(\\theta(t)) + 1.0*k*l/m - 1.0*k*r(t)/m + 1.0*r(t)*sin(\\theta(t))**2*Derivative(\\theta(t), t)**2 + 1.0*r(t)*cos(\\theta(t))**2*Derivative(\\theta(t), t)**2,\n",
              " Derivative(\\theta(t), (t, 2)): -1.0*g*cos(\\theta(t))/r(t) - 2.0*Derivative(\\theta(t), t)*Derivative(r(t), t)/r(t)}"
            ]
          },
          "metadata": {},
          "execution_count": 228
        }
      ]
    },
    {
      "cell_type": "markdown",
      "source": [
        "# State Space"
      ],
      "metadata": {
        "id": "tHO2rOB4hCjA"
      }
    },
    {
      "cell_type": "code",
      "source": [
        "d2rdt2_f = sym.lambdify((t, m, g, k, l, r, theta, r_d, theta_d), sols[r_dd])\n",
        "d2thetadt2_f = sym.lambdify((t, m, g, k, l, r, theta, r_d, theta_d), sols[theta_dd])\n",
        "drdt_f = sym.lambdify(r_d, r_d)\n",
        "dthetadt_f = sym.lambdify(theta_d, theta_d)"
      ],
      "metadata": {
        "id": "cdNiiGb-b4fX"
      },
      "execution_count": 229,
      "outputs": []
    },
    {
      "cell_type": "code",
      "source": [
        "def dSdt(S, t, m, g, k, l):\n",
        "    r, r_d, theta, theta_d = S\n",
        "    return [\n",
        "        drdt_f(r_d),\n",
        "        d2rdt2_f(t, m, g, k, l, r, theta, r_d, theta_d),\n",
        "        dthetadt_f(theta_d),\n",
        "        d2thetadt2_f(t, m, g, k, l, r, theta, r_d, theta_d),\n",
        "    ]"
      ],
      "metadata": {
        "id": "IVEtxEqScUVE"
      },
      "execution_count": 230,
      "outputs": []
    },
    {
      "cell_type": "markdown",
      "source": [
        "# Simulation"
      ],
      "metadata": {
        "id": "ijNFkvrEhFdJ"
      }
    },
    {
      "cell_type": "code",
      "source": [
        "t = np.linspace(0, 10, 10001) # s\n",
        "g = 9.81 #m/s^2\n",
        "k = 200 # N/m\n",
        "m = 2 # kg\n",
        "l = 1 # m\n",
        "\n",
        "ans = inte(dSdt, y0=[1, 0, -60*pi/180, 0], t=t, args=(m, g, k, l))"
      ],
      "metadata": {
        "id": "3Gjh8NAydm3D"
      },
      "execution_count": 231,
      "outputs": []
    },
    {
      "cell_type": "code",
      "source": [
        "ans"
      ],
      "metadata": {
        "colab": {
          "base_uri": "https://localhost:8080/"
        },
        "id": "zw-9daWKvNsU",
        "outputId": "b83ae096-caa4-4999-cfe9-4a611716b8ce"
      },
      "execution_count": 232,
      "outputs": [
        {
          "output_type": "execute_result",
          "data": {
            "text/plain": [
              "array([[ 1.        ,  0.        , -1.04719755,  0.        ],\n",
              "       [ 1.00000425,  0.00849557, -1.0472    , -0.00490496],\n",
              "       [ 1.00001699,  0.01699037, -1.04720736, -0.00980966],\n",
              "       ...,\n",
              "       [ 1.10429265,  0.89316058, -2.01186434,  0.76616398],\n",
              "       [ 1.10518534,  0.89221007, -2.0110969 ,  0.76871153],\n",
              "       [ 1.10607704,  0.89117841, -2.01032692,  0.77124812]])"
            ]
          },
          "metadata": {},
          "execution_count": 232
        }
      ]
    },
    {
      "cell_type": "code",
      "source": [
        "r_result = ans.T[0]\n",
        "theta_result = ans.T[2]"
      ],
      "metadata": {
        "id": "2lth_2JBd_ye"
      },
      "execution_count": 233,
      "outputs": []
    },
    {
      "cell_type": "markdown",
      "source": [
        "# Figure"
      ],
      "metadata": {
        "id": "PpXia9iUhIPC"
      }
    },
    {
      "cell_type": "code",
      "source": [
        "plt.plot(t, r_result)"
      ],
      "metadata": {
        "colab": {
          "base_uri": "https://localhost:8080/",
          "height": 282
        },
        "id": "b1OIwtpyeEln",
        "outputId": "24bfd3fc-a5b2-45bd-e38f-b577a9f4af48"
      },
      "execution_count": 234,
      "outputs": [
        {
          "output_type": "execute_result",
          "data": {
            "text/plain": [
              "[<matplotlib.lines.Line2D at 0x7f52429be460>]"
            ]
          },
          "metadata": {},
          "execution_count": 234
        },
        {
          "output_type": "display_data",
          "data": {
            "text/plain": [
              "<Figure size 432x288 with 1 Axes>"
            ],
            "image/png": "[encoded data removed]"
          },
          "metadata": {
            "needs_background": "light"
          }
        }
      ]
    },
    {
      "cell_type": "code",
      "source": [
        "plt.plot(t, theta_result)"
      ],
      "metadata": {
        "colab": {
          "base_uri": "https://localhost:8080/",
          "height": 282
        },
        "id": "WNX7BmmuumZ0",
        "outputId": "cc4b73ba-72e8-4d1c-87c1-b46dec3b8fb2"
      },
      "execution_count": 235,
      "outputs": [
        {
          "output_type": "execute_result",
          "data": {
            "text/plain": [
              "[<matplotlib.lines.Line2D at 0x7f52429a0eb0>]"
            ]
          },
          "metadata": {},
          "execution_count": 235
        },
        {
          "output_type": "display_data",
          "data": {
            "text/plain": [
              "<Figure size 432x288 with 1 Axes>"
            ],
            "image/png": "[encoded data removed]"
          },
          "metadata": {
            "needs_background": "light"
          }
        }
      ]
    }
  ]
}